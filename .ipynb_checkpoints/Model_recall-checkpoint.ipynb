{
 "cells": [
  {
   "cell_type": "markdown",
   "id": "ab64e7b7",
   "metadata": {},
   "source": [
    "## Model Reload and Input Data Evaluation\n",
    "\n",
    "We have already developed the model. Now we are going to recognize input data."
   ]
  },
  {
   "cell_type": "code",
   "execution_count": 1,
   "id": "d3f11323",
   "metadata": {},
   "outputs": [],
   "source": [
    "import os\n",
    "import cv2\n",
    "import numpy as np\n",
    "import matplotlib.pyplot as plt\n",
    "from tensorflow.keras.models import load_model"
   ]
  },
  {
   "cell_type": "markdown",
   "id": "d0838435",
   "metadata": {},
   "source": [
    "## Data transfer to readable type"
   ]
  },
  {
   "cell_type": "code",
   "execution_count": 2,
   "id": "d8cfe353",
   "metadata": {},
   "outputs": [],
   "source": [
    "# Function to load images from a directory\n",
    "def load_images_from_directory(image_path):\n",
    "    features = []\n",
    "    labels = []\n",
    "    IMG_SIZE = 80\n",
    "    image = cv2.imread(image_path, cv2.IMREAD_GRAYSCALE)\n",
    "    if image is not None:\n",
    "        # Resize image\n",
    "        image = cv2.resize(image, (IMG_SIZE, IMG_SIZE))\n",
    "        plt.imshow(image,cmap=\"gray\")\n",
    "        plt.show()\n",
    "        features.append(image)\n",
    "        #labels.append(label)\n",
    "    return features"
   ]
  },
  {
   "cell_type": "code",
   "execution_count": 3,
   "id": "2746190f",
   "metadata": {},
   "outputs": [
    {
     "data": {
      "image/png": "[encoded data removed]",
      "text/plain": [
       "<Figure size 640x480 with 1 Axes>"
      ]
     },
     "metadata": {},
     "output_type": "display_data"
    }
   ],
   "source": [
    "image_path = 'Input_data/input3.jpg'\n",
    "features = load_images_from_directory(image_path)\n",
    "sample_x = np.array(features) # Load or create your sample data\n",
    "sample_x = sample_x / 255.0 \n"
   ]
  },
  {
   "cell_type": "code",
   "execution_count": 4,
   "id": "ac039f6d",
   "metadata": {},
   "outputs": [
    {
     "name": "stdout",
     "output_type": "stream",
     "text": [
      "(1, 80, 80)\n"
     ]
    }
   ],
   "source": [
    "print(sample_x.shape)"
   ]
  },
  {
   "cell_type": "markdown",
   "id": "d490dd03",
   "metadata": {},
   "source": [
    "## Load the Predict Class"
   ]
  },
  {
   "cell_type": "code",
   "execution_count": 5,
   "id": "92ccb3d0",
   "metadata": {},
   "outputs": [
    {
     "name": "stdout",
     "output_type": "stream",
     "text": [
      "Model: \"sequential\"\n",
      "_________________________________________________________________\n",
      " Layer (type)                Output Shape              Param #   \n",
      "=================================================================\n",
      " conv2d (Conv2D)             (None, 78, 78, 128)       1280      \n",
      "                                                                 \n",
      " activation (Activation)     (None, 78, 78, 128)       0         \n",
      "                                                                 \n",
      " max_pooling2d (MaxPooling2  (None, 39, 39, 128)       0         \n",
      " D)                                                              \n",
      "                                                                 \n",
      " conv2d_1 (Conv2D)           (None, 37, 37, 64)        73792     \n",
      "                                                                 \n",
      " activation_1 (Activation)   (None, 37, 37, 64)        0         \n",
      "                                                                 \n",
      " max_pooling2d_1 (MaxPoolin  (None, 18, 18, 64)        0         \n",
      " g2D)                                                            \n",
      "                                                                 \n",
      " conv2d_2 (Conv2D)           (None, 16, 16, 64)        36928     \n",
      "                                                                 \n",
      " activation_2 (Activation)   (None, 16, 16, 64)        0         \n",
      "                                                                 \n",
      " max_pooling2d_2 (MaxPoolin  (None, 8, 8, 64)          0         \n",
      " g2D)                                                            \n",
      "                                                                 \n",
      " flatten (Flatten)           (None, 4096)              0         \n",
      "                                                                 \n",
      " dense (Dense)               (None, 64)                262208    \n",
      "                                                                 \n",
      " dense_1 (Dense)             (None, 1)                 65        \n",
      "                                                                 \n",
      " activation_3 (Activation)   (None, 1)                 0         \n",
      "                                                                 \n",
      "=================================================================\n",
      "Total params: 374273 (1.43 MB)\n",
      "Trainable params: 374273 (1.43 MB)\n",
      "Non-trainable params: 0 (0.00 Byte)\n",
      "_________________________________________________________________\n",
      "1/1 [==============================] - 0s 130ms/step\n",
      "[[0.]]\n"
     ]
    }
   ],
   "source": [
    "model = load_model('papaya_disease')\n",
    "\n",
    "model.summary()\n",
    "\n",
    "predictions = model.predict(sample_x)\n",
    "\n",
    "print(predictions)"
   ]
  },
  {
   "cell_type": "markdown",
   "id": "4bc2f2fe",
   "metadata": {},
   "source": [
    "As we expect, the result is fail. We can use GAN instead of CNN to improve this situation or we can increase number of data. According to the model complexity, at least we have to use $ 10^4 $ data points as a training data"
   ]
  }
 ],
 "metadata": {
  "kernelspec": {
   "display_name": "Python 3 (ipykernel)",
   "language": "python",
   "name": "python3"
  },
  "language_info": {
   "codemirror_mode": {
    "name": "ipython",
    "version": 3
   },
   "file_extension": ".py",
   "mimetype": "text/x-python",
   "name": "python",
   "nbconvert_exporter": "python",
   "pygments_lexer": "ipython3",
   "version": "3.11.5"
  }
 },
 "nbformat": 4,
 "nbformat_minor": 5
}
